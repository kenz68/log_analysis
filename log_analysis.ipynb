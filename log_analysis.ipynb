{
 "cells": [
  {
   "metadata": {},
   "cell_type": "markdown",
   "source": [
    "PySpark tutorial for beginers\n",
    "\n",
    "This notebook is a part of my learning journey which I've been documenting from Udacity's Data Scientist Nanodegree program, which\n",
    "helped me a lot to learn and excel advanced data science stuff such as PySpark. Thank you so much Udacity for providing such quality\n",
    "content.\n",
    "\n",
    "Spark is a big data framework which contains libraries for data analysis, machine learning, graph analisis, and streaming live data. Spark\n",
    "is generally faster than Hadoop. This is because Hadoop writes intermidiate results to disk whereas Spark tries to keep intermediate\n",
    "results in memory whenever possible.\n",
    "\n",
    "The Hadoop ecosystem includes a distributed file storage system called HDFS (Hadoop Distributed File System). Spark, on the other\n",
    "hand, does not include a file storage system. You can use Spark on top of HDFS, but you do not have to. Spark can read in data from\n",
    "other sources as well such as Amazon S3.\n",
    "\n",
    "Spark doesn't implement MapReduce, you can write Spark programs that behave in a similar way to the map-reduce pattern.\n",
    "\n",
    "Limitations of Spark:\n",
    "\n",
    "    - Spark Streaming's latency is at least 500 milliseconds since it operates on micro-batches of records, instead of processing one\n",
    "    record at a time. Native streaming tools such as Storm, Apex, of Flink can push down this latency value and might be more suitable\n",
    "    for low-latency applications. Flink and Apex can be used for batch computation as well, so if you're already using them for stream\n",
    "    processing, there's no need to ass Spark to your stack of technologies.\n",
    "    \n",
    "    - Another limitation of Spark is its selection of machine learning algorithms. Currently, Spark only supports algorithms that scale\n",
    "    linerly with the input data size. In general, deep learning is not available either, though there are many projects integrate Spark\n",
    "    with Tensorflow and other deep learning tools.\n",
    "   \n",
    "Source: - Spark and PySpark documentation "
   ],
   "id": "26d55f778d85cad7"
  },
  {
   "cell_type": "code",
   "id": "initial_id",
   "metadata": {
    "collapsed": true,
    "ExecuteTime": {
     "end_time": "2024-10-03T06:23:00.962939Z",
     "start_time": "2024-10-03T06:23:00.933727Z"
    }
   },
   "source": [
    "import os\n",
    "\n",
    "for dirname, _, filenames in os.walk(os.getcwd() + \"\\input\"):\n",
    "    for filename in filenames:\n",
    "        print(os.path.join(dirname, filename))"
   ],
   "outputs": [
    {
     "name": "stdout",
     "output_type": "stream",
     "text": [
      "D:\\00.bigdata\\src\\log_analysis\\log_analysis\\input\\sparkify_log_small.json\n"
     ]
    }
   ],
   "execution_count": 1
  },
  {
   "metadata": {},
   "cell_type": "markdown",
   "source": [
    "Maps\n",
    "\n",
    "Maps take data as input and then transform that data with whatever function you put in the map. They are like directions for the data\n",
    "telling how each input should get to the output.\n",
    "\n",
    "First, we need to create a SparkContext object. With the SparkContext, you can input a dataset and parallelize the data across a cluster."
   ],
   "id": "fc8ca965af8e9f5e"
  },
  {
   "metadata": {
    "ExecuteTime": {
     "end_time": "2024-10-03T06:23:00.978367Z",
     "start_time": "2024-10-03T06:23:00.964941Z"
    }
   },
   "cell_type": "code",
   "source": "# !pip install pyspark",
   "id": "25c98537bd0ee80d",
   "outputs": [],
   "execution_count": 2
  },
  {
   "metadata": {
    "ExecuteTime": {
     "end_time": "2024-10-03T06:23:07.876365Z",
     "start_time": "2024-10-03T06:23:00.980664Z"
    }
   },
   "cell_type": "code",
   "source": [
    "import pyspark\n",
    "\n",
    "sc = pyspark.SparkContext(appName=\"intro_to_spark\")\n",
    "log_of_songs = [\n",
    "        \"Despacito\",\n",
    "        \"Nice for what\",\n",
    "        \"No tears left to cry\",\n",
    "        \"Despacito\",\n",
    "        \"Havana\",\n",
    "        \"In my feelings\",\n",
    "        \"Nice for what\",\n",
    "        \"despacito\",\n",
    "        \"All the stars\"\n",
    "]\n",
    "\n",
    "# parallelize the log_of_songs to use with Spark\n",
    "distributed_song_log = sc.parallelize(log_of_songs)"
   ],
   "id": "bb195a2ac655ea8e",
   "outputs": [],
   "execution_count": 3
  },
  {
   "metadata": {
    "ExecuteTime": {
     "end_time": "2024-10-03T06:23:07.891784Z",
     "start_time": "2024-10-03T06:23:07.878274Z"
    }
   },
   "cell_type": "code",
   "source": [
    "def convert_song_to_lowercase(song):\n",
    "    return song.lower()"
   ],
   "id": "7bf05e2532ee93bc",
   "outputs": [],
   "execution_count": 4
  },
  {
   "metadata": {},
   "cell_type": "markdown",
   "source": "map step will go through each song in the list and apply the convert_song_to_lowercase() function",
   "id": "f0d39465baa1569b"
  },
  {
   "metadata": {
    "ExecuteTime": {
     "end_time": "2024-10-03T06:23:07.907063Z",
     "start_time": "2024-10-03T06:23:07.895052Z"
    }
   },
   "cell_type": "code",
   "source": "# distributed_song_log.map(convert_song_to_lowercase)",
   "id": "b41c5db6b8a49082",
   "outputs": [],
   "execution_count": 5
  },
  {
   "metadata": {},
   "cell_type": "markdown",
   "source": [
    "You'll notice that this code cell ran quite quickly. This is because of lazy evaluation. Spark does not actually execute the map step unless\n",
    "it need to.\n",
    "\n",
    "\"RDD\" in the output refers to resilient distributed dataset. RDDs are exactly what they say they are: fault-tolerant datasets distributed\n",
    "across a cluster. This is how Spark stores data.\n",
    "\n",
    "To get Spark to actually run the map step, you need to use an \"action\". One available action is the collect method. The collect() method\n",
    "takes the results from all of the clusters and \"collects\" them into a single list on the master node."
   ],
   "id": "211b4cbd28d07446"
  },
  {
   "metadata": {
    "ExecuteTime": {
     "end_time": "2024-10-03T06:23:07.922309Z",
     "start_time": "2024-10-03T06:23:07.909166Z"
    }
   },
   "cell_type": "code",
   "source": "# distributed_song_log.map(convert_song_to_lowercase).collect()",
   "id": "5fef7b9e156ee213",
   "outputs": [],
   "execution_count": 6
  },
  {
   "metadata": {},
   "cell_type": "markdown",
   "source": [
    "Note as well that Spark is not changing the original data set: Spark is merely making a copy. You can see this by running collect() on the\n",
    "original dataset."
   ],
   "id": "bf433b197a31638a"
  },
  {
   "metadata": {
    "ExecuteTime": {
     "end_time": "2024-10-03T06:23:08.574256Z",
     "start_time": "2024-10-03T06:23:07.924297Z"
    }
   },
   "cell_type": "code",
   "source": "distributed_song_log.collect()",
   "id": "7fc984824d4e685e",
   "outputs": [
    {
     "data": {
      "text/plain": [
       "['Despacito',\n",
       " 'Nice for what',\n",
       " 'No tears left to cry',\n",
       " 'Despacito',\n",
       " 'Havana',\n",
       " 'In my feelings',\n",
       " 'Nice for what',\n",
       " 'despacito',\n",
       " 'All the stars']"
      ]
     },
     "execution_count": 7,
     "metadata": {},
     "output_type": "execute_result"
    }
   ],
   "execution_count": 7
  },
  {
   "metadata": {},
   "cell_type": "markdown",
   "source": "Reading and Writing Data with Spark",
   "id": "ac1fcd65eeb41729"
  },
  {
   "metadata": {
    "ExecuteTime": {
     "end_time": "2024-10-03T06:23:08.589574Z",
     "start_time": "2024-10-03T06:23:08.576720Z"
    }
   },
   "cell_type": "code",
   "source": [
    "from pyspark import SparkConf\n",
    "from pyspark.sql import SparkSession"
   ],
   "id": "a7a4260c19ba2b22",
   "outputs": [],
   "execution_count": 8
  },
  {
   "metadata": {
    "ExecuteTime": {
     "end_time": "2024-10-03T06:23:08.831833Z",
     "start_time": "2024-10-03T06:23:08.591581Z"
    }
   },
   "cell_type": "code",
   "source": [
    "spark = SparkSession \\\n",
    "    .builder \\\n",
    "    .appName(\"intro_to_spark\").getOrCreate()"
   ],
   "id": "6b8ecf9be90a1b75",
   "outputs": [],
   "execution_count": 9
  },
  {
   "metadata": {
    "ExecuteTime": {
     "end_time": "2024-10-03T06:23:08.877492Z",
     "start_time": "2024-10-03T06:23:08.835056Z"
    }
   },
   "cell_type": "code",
   "source": "spark.sparkContext.getConf().getAll()",
   "id": "ada25448d009a4b1",
   "outputs": [
    {
     "data": {
      "text/plain": [
       "[('spark.app.startTime', '1727936585418'),\n",
       " ('spark.eventLog.enabled', 'true'),\n",
       " ('spark.history.fs.logDirectory', 'file:///c:/logs/path'),\n",
       " ('spark.app.submitTime', '1727936585170'),\n",
       " ('spark.app.id', 'local-1727936586978'),\n",
       " ('spark.executor.id', 'driver'),\n",
       " ('spark.driver.extraJavaOptions',\n",
       "  '-Djava.net.preferIPv6Addresses=false -XX:+IgnoreUnrecognizedVMOptions --add-opens=java.base/java.lang=ALL-UNNAMED --add-opens=java.base/java.lang.invoke=ALL-UNNAMED --add-opens=java.base/java.lang.reflect=ALL-UNNAMED --add-opens=java.base/java.io=ALL-UNNAMED --add-opens=java.base/java.net=ALL-UNNAMED --add-opens=java.base/java.nio=ALL-UNNAMED --add-opens=java.base/java.util=ALL-UNNAMED --add-opens=java.base/java.util.concurrent=ALL-UNNAMED --add-opens=java.base/java.util.concurrent.atomic=ALL-UNNAMED --add-opens=java.base/sun.nio.ch=ALL-UNNAMED --add-opens=java.base/sun.nio.cs=ALL-UNNAMED --add-opens=java.base/sun.security.action=ALL-UNNAMED --add-opens=java.base/sun.util.calendar=ALL-UNNAMED --add-opens=java.security.jgss/sun.security.krb5=ALL-UNNAMED -Djdk.reflect.useDirectMethodHandle=false'),\n",
       " ('spark.app.name', 'intro_to_spark'),\n",
       " ('spark.rdd.compress', 'True'),\n",
       " ('spark.driver.host', 'Kenz'),\n",
       " ('spark.serializer.objectStreamReset', '100'),\n",
       " ('spark.master', 'local[*]'),\n",
       " ('spark.submit.pyFiles', ''),\n",
       " ('spark.submit.deployMode', 'client'),\n",
       " ('spark.driver.port', '50939'),\n",
       " ('spark.ui.showConsoleProgress', 'true'),\n",
       " ('spark.executor.extraJavaOptions',\n",
       "  '-Djava.net.preferIPv6Addresses=false -XX:+IgnoreUnrecognizedVMOptions --add-opens=java.base/java.lang=ALL-UNNAMED --add-opens=java.base/java.lang.invoke=ALL-UNNAMED --add-opens=java.base/java.lang.reflect=ALL-UNNAMED --add-opens=java.base/java.io=ALL-UNNAMED --add-opens=java.base/java.net=ALL-UNNAMED --add-opens=java.base/java.nio=ALL-UNNAMED --add-opens=java.base/java.util=ALL-UNNAMED --add-opens=java.base/java.util.concurrent=ALL-UNNAMED --add-opens=java.base/java.util.concurrent.atomic=ALL-UNNAMED --add-opens=java.base/sun.nio.ch=ALL-UNNAMED --add-opens=java.base/sun.nio.cs=ALL-UNNAMED --add-opens=java.base/sun.security.action=ALL-UNNAMED --add-opens=java.base/sun.util.calendar=ALL-UNNAMED --add-opens=java.security.jgss/sun.security.krb5=ALL-UNNAMED -Djdk.reflect.useDirectMethodHandle=false')]"
      ]
     },
     "execution_count": 10,
     "metadata": {},
     "output_type": "execute_result"
    }
   ],
   "execution_count": 10
  },
  {
   "metadata": {
    "ExecuteTime": {
     "end_time": "2024-10-03T06:23:09.964320Z",
     "start_time": "2024-10-03T06:23:08.880902Z"
    }
   },
   "cell_type": "code",
   "source": "spark",
   "id": "6f74a1c95c4c5f34",
   "outputs": [
    {
     "data": {
      "text/plain": [
       "<pyspark.sql.session.SparkSession at 0x21ce6a920a0>"
      ],
      "text/html": [
       "\n",
       "            <div>\n",
       "                <p><b>SparkSession - in-memory</b></p>\n",
       "                \n",
       "        <div>\n",
       "            <p><b>SparkContext</b></p>\n",
       "\n",
       "            <p><a href=\"http://Kenz:4040\">Spark UI</a></p>\n",
       "\n",
       "            <dl>\n",
       "              <dt>Version</dt>\n",
       "                <dd><code>v3.5.0</code></dd>\n",
       "              <dt>Master</dt>\n",
       "                <dd><code>local[*]</code></dd>\n",
       "              <dt>AppName</dt>\n",
       "                <dd><code>intro_to_spark</code></dd>\n",
       "            </dl>\n",
       "        </div>\n",
       "        \n",
       "            </div>\n",
       "        "
      ]
     },
     "execution_count": 11,
     "metadata": {},
     "output_type": "execute_result"
    }
   ],
   "execution_count": 11
  },
  {
   "metadata": {},
   "cell_type": "markdown",
   "source": [
    "Now, let's create our first dataframe from a small sample data set which is a log file data set that describes user interactions with a\n",
    "music streaming service. The records describe events such as logging in to the site, visiting a page, listening to the next song, seeing an\n",
    "ad."
   ],
   "id": "a8d00a8dab35150b"
  },
  {
   "metadata": {
    "ExecuteTime": {
     "end_time": "2024-10-03T06:23:13.556799Z",
     "start_time": "2024-10-03T06:23:09.967801Z"
    }
   },
   "cell_type": "code",
   "source": [
    "path = \"input\\sparkify_log_small.json\"\n",
    "user_log = spark.read.json(path)"
   ],
   "id": "bae52f78e57a3a49",
   "outputs": [],
   "execution_count": 12
  },
  {
   "metadata": {
    "ExecuteTime": {
     "end_time": "2024-10-03T06:23:13.604684Z",
     "start_time": "2024-10-03T06:23:13.560780Z"
    }
   },
   "cell_type": "code",
   "source": "user_log.printSchema()",
   "id": "84d4b0db25fd89c6",
   "outputs": [
    {
     "name": "stdout",
     "output_type": "stream",
     "text": [
      "root\n",
      " |-- artist: string (nullable = true)\n",
      " |-- auth: string (nullable = true)\n",
      " |-- firstName: string (nullable = true)\n",
      " |-- gender: string (nullable = true)\n",
      " |-- itemInSession: long (nullable = true)\n",
      " |-- lastName: string (nullable = true)\n",
      " |-- length: double (nullable = true)\n",
      " |-- level: string (nullable = true)\n",
      " |-- location: string (nullable = true)\n",
      " |-- method: string (nullable = true)\n",
      " |-- page: string (nullable = true)\n",
      " |-- registration: long (nullable = true)\n",
      " |-- sessionId: long (nullable = true)\n",
      " |-- song: string (nullable = true)\n",
      " |-- status: long (nullable = true)\n",
      " |-- ts: long (nullable = true)\n",
      " |-- userAgent: string (nullable = true)\n",
      " |-- userId: string (nullable = true)\n",
      "\n"
     ]
    }
   ],
   "execution_count": 13
  },
  {
   "metadata": {
    "ExecuteTime": {
     "end_time": "2024-10-03T06:23:14.021634Z",
     "start_time": "2024-10-03T06:23:13.606685Z"
    }
   },
   "cell_type": "code",
   "source": "user_log.describe()",
   "id": "c5658373be0c6b4a",
   "outputs": [
    {
     "data": {
      "text/plain": [
       "DataFrame[summary: string, artist: string, auth: string, firstName: string, gender: string, itemInSession: string, lastName: string, length: string, level: string, location: string, method: string, page: string, registration: string, sessionId: string, song: string, status: string, ts: string, userAgent: string, userId: string]"
      ]
     },
     "execution_count": 14,
     "metadata": {},
     "output_type": "execute_result"
    }
   ],
   "execution_count": 14
  },
  {
   "metadata": {
    "ExecuteTime": {
     "end_time": "2024-10-03T06:23:14.611702Z",
     "start_time": "2024-10-03T06:23:14.023978Z"
    }
   },
   "cell_type": "code",
   "source": "user_log.show(n=1)",
   "id": "c438c1f23100443d",
   "outputs": [
    {
     "name": "stdout",
     "output_type": "stream",
     "text": [
      "+-------------+---------+---------+------+-------------+--------+---------+-----+--------------------+------+--------+-------------+---------+--------------------+------+-------------+--------------------+------+\n",
      "|       artist|     auth|firstName|gender|itemInSession|lastName|   length|level|            location|method|    page| registration|sessionId|                song|status|           ts|           userAgent|userId|\n",
      "+-------------+---------+---------+------+-------------+--------+---------+-----+--------------------+------+--------+-------------+---------+--------------------+------+-------------+--------------------+------+\n",
      "|Showaddywaddy|Logged In|  Kenneth|     M|          112|Matthews|232.93342| paid|Charlotte-Concord...|   PUT|NextSong|1509380319284|     5132|Christmas Tears W...|   200|1513720872284|\"Mozilla/5.0 (Win...|  1046|\n",
      "+-------------+---------+---------+------+-------------+--------+---------+-----+--------------------+------+--------+-------------+---------+--------------------+------+-------------+--------------------+------+\n",
      "only showing top 1 row\n",
      "\n"
     ]
    }
   ],
   "execution_count": 15
  },
  {
   "metadata": {
    "ExecuteTime": {
     "end_time": "2024-10-03T06:23:14.750559Z",
     "start_time": "2024-10-03T06:23:14.615703Z"
    }
   },
   "cell_type": "code",
   "source": "user_log.take(5)",
   "id": "768a4db3e8caabf",
   "outputs": [
    {
     "data": {
      "text/plain": [
       "[Row(artist='Showaddywaddy', auth='Logged In', firstName='Kenneth', gender='M', itemInSession=112, lastName='Matthews', length=232.93342, level='paid', location='Charlotte-Concord-Gastonia, NC-SC', method='PUT', page='NextSong', registration=1509380319284, sessionId=5132, song='Christmas Tears Will Fall', status=200, ts=1513720872284, userAgent='\"Mozilla/5.0 (Windows NT 6.1) AppleWebKit/537.36 (KHTML, like Gecko) Chrome/36.0.1985.125 Safari/537.36\"', userId='1046'),\n",
       " Row(artist='Lily Allen', auth='Logged In', firstName='Elizabeth', gender='F', itemInSession=7, lastName='Chase', length=195.23873, level='free', location='Shreveport-Bossier City, LA', method='PUT', page='NextSong', registration=1512718541284, sessionId=5027, song='Cheryl Tweedy', status=200, ts=1513720878284, userAgent='\"Mozilla/5.0 (Windows NT 6.1) AppleWebKit/537.36 (KHTML, like Gecko) Chrome/36.0.1985.143 Safari/537.36\"', userId='1000'),\n",
       " Row(artist='Cobra Starship Featuring Leighton Meester', auth='Logged In', firstName='Vera', gender='F', itemInSession=6, lastName='Blackwell', length=196.20526, level='paid', location='Racine, WI', method='PUT', page='NextSong', registration=1499855749284, sessionId=5516, song='Good Girls Go Bad (Feat.Leighton Meester) (Album Version)', status=200, ts=1513720881284, userAgent='\"Mozilla/5.0 (Macintosh; Intel Mac OS X 10_9_4) AppleWebKit/537.78.2 (KHTML, like Gecko) Version/7.0.6 Safari/537.78.2\"', userId='2219'),\n",
       " Row(artist='Alex Smoke', auth='Logged In', firstName='Sophee', gender='F', itemInSession=8, lastName='Barker', length=405.99465, level='paid', location='San Luis Obispo-Paso Robles-Arroyo Grande, CA', method='PUT', page='NextSong', registration=1513009647284, sessionId=2372, song=\"Don't See The Point\", status=200, ts=1513720905284, userAgent='\"Mozilla/5.0 (Windows NT 6.1; WOW64) AppleWebKit/537.36 (KHTML, like Gecko) Chrome/36.0.1985.143 Safari/537.36\"', userId='2373'),\n",
       " Row(artist=None, auth='Logged In', firstName='Jordyn', gender='F', itemInSession=0, lastName='Jones', length=None, level='free', location='Syracuse, NY', method='GET', page='Home', registration=1513648531284, sessionId=1746, song=None, status=200, ts=1513720913284, userAgent='\"Mozilla/5.0 (Macintosh; Intel Mac OS X 10_9_4) AppleWebKit/537.36 (KHTML, like Gecko) Chrome/37.0.2062.94 Safari/537.36\"', userId='1747')]"
      ]
     },
     "execution_count": 16,
     "metadata": {},
     "output_type": "execute_result"
    }
   ],
   "execution_count": 16
  },
  {
   "metadata": {},
   "cell_type": "markdown",
   "source": "Now let's save this as a csv file",
   "id": "48c38c6743bb6335"
  },
  {
   "metadata": {
    "ExecuteTime": {
     "end_time": "2024-10-03T06:23:14.765558Z",
     "start_time": "2024-10-03T06:23:14.752558Z"
    }
   },
   "cell_type": "code",
   "source": [
    "# out_path = \"sparkify_log_small.csv\"\n",
    "# user_log.write.mode(\"overwrite\").save(out_path, format=\"csv\", header=True)"
   ],
   "id": "c0d7b082bdcf835",
   "outputs": [],
   "execution_count": 17
  },
  {
   "metadata": {},
   "cell_type": "markdown",
   "source": "Data exploration",
   "id": "9a2a522c0dac293b"
  },
  {
   "metadata": {
    "ExecuteTime": {
     "end_time": "2024-10-03T06:23:16.447023Z",
     "start_time": "2024-10-03T06:23:14.767560Z"
    }
   },
   "cell_type": "code",
   "source": [
    "from pyspark.sql import SparkSession\n",
    "from pyspark.sql.functions import udf\n",
    "from pyspark.sql.types import StringType, IntegerType\n",
    "from pyspark.sql.functions import desc, asc\n",
    "from pyspark.sql.functions import sum as Fsum\n",
    "\n",
    "import datetime\n",
    "\n",
    "import numpy as np\n",
    "import pandas as pd\n",
    "%matplotlib inline\n",
    "import matplotlib.pyplot as plt\n",
    "\n",
    "path = \"input\\sparkify_log_small.json\"\n",
    "user_log = spark.read.json(path)\n",
    "\n",
    "user_log.take(5)"
   ],
   "id": "3fc039421bf36b0f",
   "outputs": [
    {
     "data": {
      "text/plain": [
       "[Row(artist='Showaddywaddy', auth='Logged In', firstName='Kenneth', gender='M', itemInSession=112, lastName='Matthews', length=232.93342, level='paid', location='Charlotte-Concord-Gastonia, NC-SC', method='PUT', page='NextSong', registration=1509380319284, sessionId=5132, song='Christmas Tears Will Fall', status=200, ts=1513720872284, userAgent='\"Mozilla/5.0 (Windows NT 6.1) AppleWebKit/537.36 (KHTML, like Gecko) Chrome/36.0.1985.125 Safari/537.36\"', userId='1046'),\n",
       " Row(artist='Lily Allen', auth='Logged In', firstName='Elizabeth', gender='F', itemInSession=7, lastName='Chase', length=195.23873, level='free', location='Shreveport-Bossier City, LA', method='PUT', page='NextSong', registration=1512718541284, sessionId=5027, song='Cheryl Tweedy', status=200, ts=1513720878284, userAgent='\"Mozilla/5.0 (Windows NT 6.1) AppleWebKit/537.36 (KHTML, like Gecko) Chrome/36.0.1985.143 Safari/537.36\"', userId='1000'),\n",
       " Row(artist='Cobra Starship Featuring Leighton Meester', auth='Logged In', firstName='Vera', gender='F', itemInSession=6, lastName='Blackwell', length=196.20526, level='paid', location='Racine, WI', method='PUT', page='NextSong', registration=1499855749284, sessionId=5516, song='Good Girls Go Bad (Feat.Leighton Meester) (Album Version)', status=200, ts=1513720881284, userAgent='\"Mozilla/5.0 (Macintosh; Intel Mac OS X 10_9_4) AppleWebKit/537.78.2 (KHTML, like Gecko) Version/7.0.6 Safari/537.78.2\"', userId='2219'),\n",
       " Row(artist='Alex Smoke', auth='Logged In', firstName='Sophee', gender='F', itemInSession=8, lastName='Barker', length=405.99465, level='paid', location='San Luis Obispo-Paso Robles-Arroyo Grande, CA', method='PUT', page='NextSong', registration=1513009647284, sessionId=2372, song=\"Don't See The Point\", status=200, ts=1513720905284, userAgent='\"Mozilla/5.0 (Windows NT 6.1; WOW64) AppleWebKit/537.36 (KHTML, like Gecko) Chrome/36.0.1985.143 Safari/537.36\"', userId='2373'),\n",
       " Row(artist=None, auth='Logged In', firstName='Jordyn', gender='F', itemInSession=0, lastName='Jones', length=None, level='free', location='Syracuse, NY', method='GET', page='Home', registration=1513648531284, sessionId=1746, song=None, status=200, ts=1513720913284, userAgent='\"Mozilla/5.0 (Macintosh; Intel Mac OS X 10_9_4) AppleWebKit/537.36 (KHTML, like Gecko) Chrome/37.0.2062.94 Safari/537.36\"', userId='1747')]"
      ]
     },
     "execution_count": 18,
     "metadata": {},
     "output_type": "execute_result"
    }
   ],
   "execution_count": 18
  },
  {
   "metadata": {
    "ExecuteTime": {
     "end_time": "2024-10-03T06:23:16.462277Z",
     "start_time": "2024-10-03T06:23:16.449304Z"
    }
   },
   "cell_type": "code",
   "source": "user_log.printSchema()",
   "id": "bd76514696e0176f",
   "outputs": [
    {
     "name": "stdout",
     "output_type": "stream",
     "text": [
      "root\n",
      " |-- artist: string (nullable = true)\n",
      " |-- auth: string (nullable = true)\n",
      " |-- firstName: string (nullable = true)\n",
      " |-- gender: string (nullable = true)\n",
      " |-- itemInSession: long (nullable = true)\n",
      " |-- lastName: string (nullable = true)\n",
      " |-- length: double (nullable = true)\n",
      " |-- level: string (nullable = true)\n",
      " |-- location: string (nullable = true)\n",
      " |-- method: string (nullable = true)\n",
      " |-- page: string (nullable = true)\n",
      " |-- registration: long (nullable = true)\n",
      " |-- sessionId: long (nullable = true)\n",
      " |-- song: string (nullable = true)\n",
      " |-- status: long (nullable = true)\n",
      " |-- ts: long (nullable = true)\n",
      " |-- userAgent: string (nullable = true)\n",
      " |-- userId: string (nullable = true)\n",
      "\n"
     ]
    }
   ],
   "execution_count": 19
  },
  {
   "metadata": {
    "ExecuteTime": {
     "end_time": "2024-10-03T06:23:19.146485Z",
     "start_time": "2024-10-03T06:23:16.464759Z"
    }
   },
   "cell_type": "code",
   "source": "user_log.describe().show()",
   "id": "1dd3f8ea507d5014",
   "outputs": [
    {
     "name": "stdout",
     "output_type": "stream",
     "text": [
      "+-------+-----------------+----------+---------+------+------------------+--------+-----------------+-----+------------+------+-------+--------------------+------------------+--------+-----------------+-------------------+--------------------+------------------+\n",
      "|summary|           artist|      auth|firstName|gender|     itemInSession|lastName|           length|level|    location|method|   page|        registration|         sessionId|    song|           status|                 ts|           userAgent|            userId|\n",
      "+-------+-----------------+----------+---------+------+------------------+--------+-----------------+-----+------------+------+-------+--------------------+------------------+--------+-----------------+-------------------+--------------------+------------------+\n",
      "|  count|             8347|     10000|     9664|  9664|             10000|    9664|             8347|10000|        9664| 10000|  10000|                9664|             10000|    8347|            10000|              10000|                9664|             10000|\n",
      "|   mean|            461.0|      NULL|     NULL|  NULL|           19.6734|    NULL|249.6486587492506| NULL|        NULL|  NULL|   NULL|1.504695369588739...|         4436.7511|Infinity|         202.8984| 1.5137859954164E12|                NULL|1442.4413286423842|\n",
      "| stddev|            300.0|      NULL|     NULL|  NULL|25.382114916132608|    NULL|95.00437130781461| NULL|        NULL|  NULL|   NULL|  8.47314252131656E9|2043.1281541827561|     NaN|18.04179115450588|3.290828862357974E7|                NULL| 829.8909432082621|\n",
      "|    min|              !!!|     Guest|   Aakash|     F|                 0| Acevedo|          1.12281| free|Aberdeen, WA|   GET|  About|       1463503881284|                 9|      #1|              200|      1513720872284|\"Mozilla/5.0 (Mac...|                  |\n",
      "|    max|ÃÂlafur Arnalds|Logged Out|     Zoie|     M|               163|  Zuniga|        1806.8371| paid|    Yuma, AZ|   PUT|Upgrade|       1513760702284|              7144|wingless|              404|      1513848349284|Mozilla/5.0 (comp...|               999|\n",
      "+-------+-----------------+----------+---------+------+------------------+--------+-----------------+-----+------------+------+-------+--------------------+------------------+--------+-----------------+-------------------+--------------------+------------------+\n",
      "\n"
     ]
    }
   ],
   "execution_count": 20
  },
  {
   "metadata": {
    "ExecuteTime": {
     "end_time": "2024-10-03T06:23:20.064827Z",
     "start_time": "2024-10-03T06:23:19.148485Z"
    }
   },
   "cell_type": "code",
   "source": "user_log.describe(\"artist\").show()",
   "id": "97cc1dcfa7e71e8a",
   "outputs": [
    {
     "name": "stdout",
     "output_type": "stream",
     "text": [
      "+-------+-----------------+\n",
      "|summary|           artist|\n",
      "+-------+-----------------+\n",
      "|  count|             8347|\n",
      "|   mean|            461.0|\n",
      "| stddev|            300.0|\n",
      "|    min|              !!!|\n",
      "|    max|ÃÂlafur Arnalds|\n",
      "+-------+-----------------+\n",
      "\n"
     ]
    }
   ],
   "execution_count": 21
  },
  {
   "metadata": {
    "ExecuteTime": {
     "end_time": "2024-10-03T06:23:20.598114Z",
     "start_time": "2024-10-03T06:23:20.067826Z"
    }
   },
   "cell_type": "code",
   "source": "user_log.describe(\"sessionId\").show()",
   "id": "f9aa8e140058c586",
   "outputs": [
    {
     "name": "stdout",
     "output_type": "stream",
     "text": [
      "+-------+------------------+\n",
      "|summary|         sessionId|\n",
      "+-------+------------------+\n",
      "|  count|             10000|\n",
      "|   mean|         4436.7511|\n",
      "| stddev|2043.1281541827561|\n",
      "|    min|                 9|\n",
      "|    max|              7144|\n",
      "+-------+------------------+\n",
      "\n"
     ]
    }
   ],
   "execution_count": 22
  },
  {
   "metadata": {
    "ExecuteTime": {
     "end_time": "2024-10-03T06:23:21.258481Z",
     "start_time": "2024-10-03T06:23:20.601618Z"
    }
   },
   "cell_type": "code",
   "source": "user_log.count()",
   "id": "cf364717e84a900",
   "outputs": [
    {
     "data": {
      "text/plain": [
       "10000"
      ]
     },
     "execution_count": 23,
     "metadata": {},
     "output_type": "execute_result"
    }
   ],
   "execution_count": 23
  },
  {
   "metadata": {
    "ExecuteTime": {
     "end_time": "2024-10-03T06:23:22.411559Z",
     "start_time": "2024-10-03T06:23:21.261482Z"
    }
   },
   "cell_type": "code",
   "source": "user_log.select(\"page\").dropDuplicates().sort(\"page\").show()",
   "id": "6a823b297cb99660",
   "outputs": [
    {
     "name": "stdout",
     "output_type": "stream",
     "text": [
      "+----------------+\n",
      "|            page|\n",
      "+----------------+\n",
      "|           About|\n",
      "|       Downgrade|\n",
      "|           Error|\n",
      "|            Help|\n",
      "|            Home|\n",
      "|           Login|\n",
      "|          Logout|\n",
      "|        NextSong|\n",
      "|   Save Settings|\n",
      "|        Settings|\n",
      "|Submit Downgrade|\n",
      "|  Submit Upgrade|\n",
      "|         Upgrade|\n",
      "+----------------+\n",
      "\n"
     ]
    }
   ],
   "execution_count": 24
  },
  {
   "metadata": {
    "ExecuteTime": {
     "end_time": "2024-10-03T06:23:22.767362Z",
     "start_time": "2024-10-03T06:23:22.415230Z"
    }
   },
   "cell_type": "code",
   "source": "user_log.select([\"userId\", \"firstName\", \"page\", \"song\"]).where(user_log.userId == \"1046\").collect()",
   "id": "2811d86744f38948",
   "outputs": [
    {
     "data": {
      "text/plain": [
       "[Row(userId='1046', firstName='Kenneth', page='NextSong', song='Christmas Tears Will Fall'),\n",
       " Row(userId='1046', firstName='Kenneth', page='NextSong', song='Be Wary Of A Woman'),\n",
       " Row(userId='1046', firstName='Kenneth', page='NextSong', song='Public Enemy No.1'),\n",
       " Row(userId='1046', firstName='Kenneth', page='NextSong', song='Reign Of The Tyrants'),\n",
       " Row(userId='1046', firstName='Kenneth', page='NextSong', song='Father And Son'),\n",
       " Row(userId='1046', firstName='Kenneth', page='NextSong', song='No. 5'),\n",
       " Row(userId='1046', firstName='Kenneth', page='NextSong', song='Seventeen'),\n",
       " Row(userId='1046', firstName='Kenneth', page='Home', song=None),\n",
       " Row(userId='1046', firstName='Kenneth', page='NextSong', song='War on war'),\n",
       " Row(userId='1046', firstName='Kenneth', page='NextSong', song='Killermont Street'),\n",
       " Row(userId='1046', firstName='Kenneth', page='NextSong', song='Black & Blue'),\n",
       " Row(userId='1046', firstName='Kenneth', page='Logout', song=None),\n",
       " Row(userId='1046', firstName='Kenneth', page='Home', song=None),\n",
       " Row(userId='1046', firstName='Kenneth', page='NextSong', song='Heads Will Roll'),\n",
       " Row(userId='1046', firstName='Kenneth', page='NextSong', song='Bleed It Out [Live At Milton Keynes]'),\n",
       " Row(userId='1046', firstName='Kenneth', page='NextSong', song='Clocks'),\n",
       " Row(userId='1046', firstName='Kenneth', page='NextSong', song='Love Rain'),\n",
       " Row(userId='1046', firstName='Kenneth', page='NextSong', song=\"Ry Ry's Song (Album Version)\"),\n",
       " Row(userId='1046', firstName='Kenneth', page='NextSong', song='The Invisible Man'),\n",
       " Row(userId='1046', firstName='Kenneth', page='NextSong', song='Catch You Baby (Steve Pitron & Max Sanna Radio Edit)'),\n",
       " Row(userId='1046', firstName='Kenneth', page='NextSong', song='Ask The Mountains'),\n",
       " Row(userId='1046', firstName='Kenneth', page='NextSong', song='Given Up (Album Version)'),\n",
       " Row(userId='1046', firstName='Kenneth', page='NextSong', song='El Cuatrero'),\n",
       " Row(userId='1046', firstName='Kenneth', page='NextSong', song='Hero/Heroine'),\n",
       " Row(userId='1046', firstName='Kenneth', page='NextSong', song='Spring'),\n",
       " Row(userId='1046', firstName='Kenneth', page='NextSong', song='Rising Moon'),\n",
       " Row(userId='1046', firstName='Kenneth', page='NextSong', song='Tough Little Boys'),\n",
       " Row(userId='1046', firstName='Kenneth', page='NextSong', song=\"Qu'Est-Ce Que T'Es Belle\"),\n",
       " Row(userId='1046', firstName='Kenneth', page='NextSong', song='Secrets'),\n",
       " Row(userId='1046', firstName='Kenneth', page='NextSong', song='Under The Gun')]"
      ]
     },
     "execution_count": 25,
     "metadata": {},
     "output_type": "execute_result"
    }
   ],
   "execution_count": 25
  },
  {
   "metadata": {},
   "cell_type": "markdown",
   "source": "Calculating Statistics by Hour",
   "id": "917d9cb0c42aed83"
  },
  {
   "metadata": {
    "ExecuteTime": {
     "end_time": "2024-10-03T06:23:22.782038Z",
     "start_time": "2024-10-03T06:23:22.769365Z"
    }
   },
   "cell_type": "code",
   "source": "get_hour = udf(lambda x: datetime.datetime.fromtimestamp(x / 1000.0).hour)",
   "id": "9e736f90a6e5f0e6",
   "outputs": [],
   "execution_count": 26
  },
  {
   "metadata": {
    "ExecuteTime": {
     "end_time": "2024-10-03T06:23:22.892298Z",
     "start_time": "2024-10-03T06:23:22.787040Z"
    }
   },
   "cell_type": "code",
   "source": "user_log = user_log.withColumn(\"hour\", get_hour(user_log.ts))",
   "id": "61e4e0ce53305897",
   "outputs": [],
   "execution_count": 27
  },
  {
   "metadata": {
    "ExecuteTime": {
     "end_time": "2024-10-03T06:23:24.832737Z",
     "start_time": "2024-10-03T06:23:22.895851Z"
    }
   },
   "cell_type": "code",
   "source": "user_log.head()",
   "id": "7eeb650a42bcd14c",
   "outputs": [
    {
     "data": {
      "text/plain": [
       "Row(artist='Showaddywaddy', auth='Logged In', firstName='Kenneth', gender='M', itemInSession=112, lastName='Matthews', length=232.93342, level='paid', location='Charlotte-Concord-Gastonia, NC-SC', method='PUT', page='NextSong', registration=1509380319284, sessionId=5132, song='Christmas Tears Will Fall', status=200, ts=1513720872284, userAgent='\"Mozilla/5.0 (Windows NT 6.1) AppleWebKit/537.36 (KHTML, like Gecko) Chrome/36.0.1985.125 Safari/537.36\"', userId='1046', hour='5')"
      ]
     },
     "execution_count": 28,
     "metadata": {},
     "output_type": "execute_result"
    }
   ],
   "execution_count": 28
  },
  {
   "metadata": {
    "ExecuteTime": {
     "end_time": "2024-10-03T06:25:43.567307Z",
     "start_time": "2024-10-03T06:25:41.696362Z"
    }
   },
   "cell_type": "code",
   "source": [
    "songs_in_hour = user_log.filter(user_log.page == \"NextSong\").groupby(user_log.hour).count().orderBy(user_log.hour.cast(\"float\"))\n",
    "songs_in_hour.show()"
   ],
   "id": "55b3a36d34d49673",
   "outputs": [
    {
     "name": "stdout",
     "output_type": "stream",
     "text": [
      "+----+-----+\n",
      "|hour|count|\n",
      "+----+-----+\n",
      "|   0|  430|\n",
      "|   1|  362|\n",
      "|   2|  295|\n",
      "|   3|  257|\n",
      "|   4|  248|\n",
      "|   5|  369|\n",
      "|   6|  375|\n",
      "|   7|  456|\n",
      "|   8|  454|\n",
      "|   9|  382|\n",
      "|  10|  302|\n",
      "|  11|  352|\n",
      "|  12|  276|\n",
      "|  13|  348|\n",
      "|  14|  358|\n",
      "|  15|  375|\n",
      "|  16|  249|\n",
      "|  17|  216|\n",
      "|  18|  228|\n",
      "|  19|  251|\n",
      "+----+-----+\n",
      "only showing top 20 rows\n",
      "\n"
     ]
    }
   ],
   "execution_count": 30
  },
  {
   "metadata": {
    "ExecuteTime": {
     "end_time": "2024-10-03T06:28:43.730992Z",
     "start_time": "2024-10-03T06:28:40.909888Z"
    }
   },
   "cell_type": "code",
   "source": [
    "songs_in_hour_pd = songs_in_hour.toPandas()\n",
    "songs_in_hour_pd.hour = pd.to_numeric(songs_in_hour_pd.hour)\n",
    "\n",
    "plt.scatter(songs_in_hour_pd[\"hour\"], songs_in_hour_pd[\"count\"])\n",
    "plt.xlim(-1, 24)\n",
    "plt.ylim(0, 1.2 * max(songs_in_hour_pd[\"count\"]))\n",
    "plt.xlabel(\"Hour\")\n",
    "plt.ylabel(\"Song played\")"
   ],
   "id": "d5c3d81407479df5",
   "outputs": [
    {
     "data": {
      "text/plain": [
       "Text(0, 0.5, 'Song played')"
      ]
     },
     "execution_count": 32,
     "metadata": {},
     "output_type": "execute_result"
    },
    {
     "data": {
      "text/plain": [
       "<Figure size 640x480 with 1 Axes>"
      ],
      "image/png": "[encoded data removed]"
     },
     "metadata": {},
     "output_type": "display_data"
    }
   ],
   "execution_count": 32
  },
  {
   "metadata": {},
   "cell_type": "markdown",
   "source": "Drop Rows with Missing Values",
   "id": "5520339cf2861a5"
  },
  {
   "metadata": {
    "ExecuteTime": {
     "end_time": "2024-10-03T06:30:41.574546Z",
     "start_time": "2024-10-03T06:30:41.529186Z"
    }
   },
   "cell_type": "code",
   "source": "user_log_valid = user_log.dropna(how= \"any\", subset= [\"userId\", \"sessionId\"])",
   "id": "500a9443bf915cc3",
   "outputs": [],
   "execution_count": 33
  },
  {
   "metadata": {
    "ExecuteTime": {
     "end_time": "2024-10-03T06:30:51.166154Z",
     "start_time": "2024-10-03T06:30:50.820187Z"
    }
   },
   "cell_type": "code",
   "source": "user_log_valid.count()",
   "id": "336518597aa5ffcf",
   "outputs": [
    {
     "data": {
      "text/plain": [
       "10000"
      ]
     },
     "execution_count": 34,
     "metadata": {},
     "output_type": "execute_result"
    }
   ],
   "execution_count": 34
  },
  {
   "metadata": {
    "ExecuteTime": {
     "end_time": "2024-10-03T06:31:24.006496Z",
     "start_time": "2024-10-03T06:31:23.120531Z"
    }
   },
   "cell_type": "code",
   "source": "user_log.select(\"userId\").dropDuplicates().sort(\"userId\").show()",
   "id": "a2f0aca7c0b001ee",
   "outputs": [
    {
     "name": "stdout",
     "output_type": "stream",
     "text": [
      "+------+\n",
      "|userId|\n",
      "+------+\n",
      "|      |\n",
      "|    10|\n",
      "|   100|\n",
      "|  1000|\n",
      "|  1003|\n",
      "|  1005|\n",
      "|  1006|\n",
      "|  1017|\n",
      "|  1019|\n",
      "|  1020|\n",
      "|  1022|\n",
      "|  1025|\n",
      "|  1030|\n",
      "|  1035|\n",
      "|  1037|\n",
      "|   104|\n",
      "|  1040|\n",
      "|  1042|\n",
      "|  1043|\n",
      "|  1046|\n",
      "+------+\n",
      "only showing top 20 rows\n",
      "\n"
     ]
    }
   ],
   "execution_count": 35
  },
  {
   "metadata": {
    "ExecuteTime": {
     "end_time": "2024-10-03T06:32:20.492781Z",
     "start_time": "2024-10-03T06:32:20.476588Z"
    }
   },
   "cell_type": "code",
   "source": "user_log_valid = user_log_valid.filter(user_log_valid[\"userId\"] != \"\")",
   "id": "1b2e258f19802a02",
   "outputs": [],
   "execution_count": 36
  },
  {
   "metadata": {
    "ExecuteTime": {
     "end_time": "2024-10-03T06:32:33.698878Z",
     "start_time": "2024-10-03T06:32:33.452570Z"
    }
   },
   "cell_type": "code",
   "source": "user_log_valid.count()",
   "id": "a31691094f65a772",
   "outputs": [
    {
     "data": {
      "text/plain": [
       "9664"
      ]
     },
     "execution_count": 37,
     "metadata": {},
     "output_type": "execute_result"
    }
   ],
   "execution_count": 37
  },
  {
   "metadata": {},
   "cell_type": "markdown",
   "source": [
    "Users Downgrade Their Accounts\n",
    "\n",
    "Let's find when users downgrade their accounts and then flag those log entries."
   ],
   "id": "d3aa70940a31bfb4"
  },
  {
   "metadata": {
    "ExecuteTime": {
     "end_time": "2024-10-03T06:33:52.743629Z",
     "start_time": "2024-10-03T06:33:50.635587Z"
    }
   },
   "cell_type": "code",
   "source": "user_log_valid.filter(\"page = 'Submit Downgrade'\").show()",
   "id": "c60b6a8b66b8d5a2",
   "outputs": [
    {
     "name": "stdout",
     "output_type": "stream",
     "text": [
      "+------+---------+---------+------+-------------+--------+------+-----+--------------------+------+----------------+-------------+---------+----+------+-------------+--------------------+------+----+\n",
      "|artist|     auth|firstName|gender|itemInSession|lastName|length|level|            location|method|            page| registration|sessionId|song|status|           ts|           userAgent|userId|hour|\n",
      "+------+---------+---------+------+-------------+--------+------+-----+--------------------+------+----------------+-------------+---------+----+------+-------------+--------------------+------+----+\n",
      "|  NULL|Logged In|    Kelly|     F|           24|  Newton|  NULL| paid|Houston-The Woodl...|   PUT|Submit Downgrade|1513283366284|     5931|NULL|   307|1513768454284|Mozilla/5.0 (Wind...|  1138|  18|\n",
      "+------+---------+---------+------+-------------+--------+------+-----+--------------------+------+----------------+-------------+---------+----+------+-------------+--------------------+------+----+\n",
      "\n"
     ]
    }
   ],
   "execution_count": 38
  },
  {
   "metadata": {
    "ExecuteTime": {
     "end_time": "2024-10-03T06:35:05.376787Z",
     "start_time": "2024-10-03T06:35:05.205995Z"
    }
   },
   "cell_type": "code",
   "source": "user_log.select([\"userId\", \"firstName\", \"page\", \"level\", \"song\"]).where(user_log.userId == \"1138\").collect()",
   "id": "a98a12cd6ce89bf1",
   "outputs": [
    {
     "data": {
      "text/plain": [
       "[Row(userId='1138', firstName='Kelly', page='Home', level='paid', song=None),\n",
       " Row(userId='1138', firstName='Kelly', page='NextSong', level='paid', song='Everybody Everybody'),\n",
       " Row(userId='1138', firstName='Kelly', page='NextSong', level='paid', song='Gears'),\n",
       " Row(userId='1138', firstName='Kelly', page='NextSong', level='paid', song='Use Somebody'),\n",
       " Row(userId='1138', firstName='Kelly', page='NextSong', level='paid', song='Love Of My Life (1993 Digital Remaster)'),\n",
       " Row(userId='1138', firstName='Kelly', page='NextSong', level='paid', song='Down In The Valley Woe'),\n",
       " Row(userId='1138', firstName='Kelly', page='NextSong', level='paid', song='Treat Her Like A Lady'),\n",
       " Row(userId='1138', firstName='Kelly', page='NextSong', level='paid', song=\"Everybody Thinks You're An Angel\"),\n",
       " Row(userId='1138', firstName='Kelly', page='NextSong', level='paid', song='Fourteen Wives'),\n",
       " Row(userId='1138', firstName='Kelly', page='NextSong', level='paid', song='Love On The Rocks'),\n",
       " Row(userId='1138', firstName='Kelly', page='NextSong', level='paid', song='Breakeven'),\n",
       " Row(userId='1138', firstName='Kelly', page='NextSong', level='paid', song='Leaf House'),\n",
       " Row(userId='1138', firstName='Kelly', page='NextSong', level='paid', song='NAISEN KANSSA'),\n",
       " Row(userId='1138', firstName='Kelly', page='NextSong', level='paid', song=\"You're In My Heart\"),\n",
       " Row(userId='1138', firstName='Kelly', page='NextSong', level='paid', song='Roll On Down The Highway'),\n",
       " Row(userId='1138', firstName='Kelly', page='NextSong', level='paid', song='Plasticities (Remix)'),\n",
       " Row(userId='1138', firstName='Kelly', page='NextSong', level='paid', song='Secrets'),\n",
       " Row(userId='1138', firstName='Kelly', page='NextSong', level='paid', song='Hello'),\n",
       " Row(userId='1138', firstName='Kelly', page='NextSong', level='paid', song='I Never Told You'),\n",
       " Row(userId='1138', firstName='Kelly', page='NextSong', level='paid', song='Love Break Me'),\n",
       " Row(userId='1138', firstName='Kelly', page='NextSong', level='paid', song='One Touch One Bounce'),\n",
       " Row(userId='1138', firstName='Kelly', page='NextSong', level='paid', song='Undo'),\n",
       " Row(userId='1138', firstName='Kelly', page='NextSong', level='paid', song='Overdue (Blackbeard Remix)'),\n",
       " Row(userId='1138', firstName='Kelly', page='NextSong', level='paid', song='Slave To Love (1999 Digital Remaster)'),\n",
       " Row(userId='1138', firstName='Kelly', page='NextSong', level='paid', song='Stronger'),\n",
       " Row(userId='1138', firstName='Kelly', page='NextSong', level='paid', song='All Of Us (Album Version)'),\n",
       " Row(userId='1138', firstName='Kelly', page='NextSong', level='paid', song='Sehr kosmisch'),\n",
       " Row(userId='1138', firstName='Kelly', page='NextSong', level='paid', song='March Of The Celts'),\n",
       " Row(userId='1138', firstName='Kelly', page='NextSong', level='paid', song='Electricity'),\n",
       " Row(userId='1138', firstName='Kelly', page='NextSong', level='paid', song='Aces High'),\n",
       " Row(userId='1138', firstName='Kelly', page='NextSong', level='paid', song='Bananeira'),\n",
       " Row(userId='1138', firstName='Kelly', page='NextSong', level='paid', song='The General'),\n",
       " Row(userId='1138', firstName='Kelly', page='NextSong', level='paid', song='HÃ\\x83Â©roe De Leyenda (VersiÃ\\x83Â³n Maxi)'),\n",
       " Row(userId='1138', firstName='Kelly', page='NextSong', level='paid', song=\"Don't Stop The Music\"),\n",
       " Row(userId='1138', firstName='Kelly', page='NextSong', level='paid', song=\"You're The One\"),\n",
       " Row(userId='1138', firstName='Kelly', page='NextSong', level='paid', song='Entering White Cecilia'),\n",
       " Row(userId='1138', firstName='Kelly', page='NextSong', level='paid', song='Piccolo Cesare'),\n",
       " Row(userId='1138', firstName='Kelly', page='Help', level='paid', song=None),\n",
       " Row(userId='1138', firstName='Kelly', page='NextSong', level='paid', song='Last Christmas (Album Version)'),\n",
       " Row(userId='1138', firstName='Kelly', page='NextSong', level='paid', song='You Shook Me'),\n",
       " Row(userId='1138', firstName='Kelly', page='NextSong', level='paid', song='Going Steady'),\n",
       " Row(userId='1138', firstName='Kelly', page='NextSong', level='paid', song='My Name Is'),\n",
       " Row(userId='1138', firstName='Kelly', page='NextSong', level='paid', song='Undo'),\n",
       " Row(userId='1138', firstName='Kelly', page='NextSong', level='paid', song='Secrets'),\n",
       " Row(userId='1138', firstName='Kelly', page='NextSong', level='paid', song='Good Times Gone (Album Version)'),\n",
       " Row(userId='1138', firstName='Kelly', page='NextSong', level='paid', song='Angelito'),\n",
       " Row(userId='1138', firstName='Kelly', page='NextSong', level='paid', song='Batdance ( LP Version )'),\n",
       " Row(userId='1138', firstName='Kelly', page='Home', level='paid', song=None),\n",
       " Row(userId='1138', firstName='Kelly', page='NextSong', level='paid', song='DiÃ\\x83Â¡kdal'),\n",
       " Row(userId='1138', firstName='Kelly', page='NextSong', level='paid', song='Whirring'),\n",
       " Row(userId='1138', firstName='Kelly', page='NextSong', level='paid', song='Potholderz (feat. Count Bass D)'),\n",
       " Row(userId='1138', firstName='Kelly', page='NextSong', level='paid', song='Seaside'),\n",
       " Row(userId='1138', firstName='Kelly', page='NextSong', level='paid', song='Louder Than A Bomb'),\n",
       " Row(userId='1138', firstName='Kelly', page='NextSong', level='paid', song='Just Like You'),\n",
       " Row(userId='1138', firstName='Kelly', page='NextSong', level='paid', song=\"You're The One\"),\n",
       " Row(userId='1138', firstName='Kelly', page='NextSong', level='paid', song='Turn It Again (Album Version)'),\n",
       " Row(userId='1138', firstName='Kelly', page='NextSong', level='paid', song='Everywhere I Go'),\n",
       " Row(userId='1138', firstName='Kelly', page='NextSong', level='paid', song=\"Easy Skankin'\"),\n",
       " Row(userId='1138', firstName='Kelly', page='NextSong', level='paid', song='Roses'),\n",
       " Row(userId='1138', firstName='Kelly', page='NextSong', level='paid', song='Killing Me Softly With His Song'),\n",
       " Row(userId='1138', firstName='Kelly', page='NextSong', level='paid', song='The Razor (Album Version)'),\n",
       " Row(userId='1138', firstName='Kelly', page='NextSong', level='paid', song='Idols and Anchors'),\n",
       " Row(userId='1138', firstName='Kelly', page='Downgrade', level='paid', song=None),\n",
       " Row(userId='1138', firstName='Kelly', page='Submit Downgrade', level='paid', song=None),\n",
       " Row(userId='1138', firstName='Kelly', page='Home', level='free', song=None),\n",
       " Row(userId='1138', firstName='Kelly', page='NextSong', level='free', song='Bones'),\n",
       " Row(userId='1138', firstName='Kelly', page='Home', level='free', song=None),\n",
       " Row(userId='1138', firstName='Kelly', page='NextSong', level='free', song='Grenouilles Mantidactylus (Small Frogs)')]"
      ]
     },
     "execution_count": 40,
     "metadata": {},
     "output_type": "execute_result"
    }
   ],
   "execution_count": 40
  },
  {
   "metadata": {
    "ExecuteTime": {
     "end_time": "2024-10-03T06:36:09.815495Z",
     "start_time": "2024-10-03T06:36:09.804039Z"
    }
   },
   "cell_type": "code",
   "source": "flag_downgrade_event = udf(lambda x: 1 if x == \"Submit Downgrade\" else 0, IntegerType())",
   "id": "cff2714ebf55ba90",
   "outputs": [],
   "execution_count": 41
  },
  {
   "metadata": {
    "ExecuteTime": {
     "end_time": "2024-10-03T06:37:14.023764Z",
     "start_time": "2024-10-03T06:37:13.967041Z"
    }
   },
   "cell_type": "code",
   "source": "user_log_valid = user_log_valid.withColumn(\"downgrade\", flag_downgrade_event(\"page\"))",
   "id": "b0db68c965e5535d",
   "outputs": [],
   "execution_count": 42
  },
  {
   "metadata": {
    "ExecuteTime": {
     "end_time": "2024-10-03T06:37:22.943045Z",
     "start_time": "2024-10-03T06:37:21.892798Z"
    }
   },
   "cell_type": "code",
   "source": "user_log_valid.head()",
   "id": "82894b82803f4c3e",
   "outputs": [
    {
     "data": {
      "text/plain": [
       "Row(artist='Showaddywaddy', auth='Logged In', firstName='Kenneth', gender='M', itemInSession=112, lastName='Matthews', length=232.93342, level='paid', location='Charlotte-Concord-Gastonia, NC-SC', method='PUT', page='NextSong', registration=1509380319284, sessionId=5132, song='Christmas Tears Will Fall', status=200, ts=1513720872284, userAgent='\"Mozilla/5.0 (Windows NT 6.1) AppleWebKit/537.36 (KHTML, like Gecko) Chrome/36.0.1985.125 Safari/537.36\"', userId='1046', hour='5', downgrade=0)"
      ]
     },
     "execution_count": 43,
     "metadata": {},
     "output_type": "execute_result"
    }
   ],
   "execution_count": 43
  },
  {
   "metadata": {
    "ExecuteTime": {
     "end_time": "2024-10-03T06:39:09.462225Z",
     "start_time": "2024-10-03T06:39:09.444983Z"
    }
   },
   "cell_type": "code",
   "source": "from pyspark.sql import Window",
   "id": "71d8087395c399cd",
   "outputs": [],
   "execution_count": 45
  },
  {
   "metadata": {
    "ExecuteTime": {
     "end_time": "2024-10-03T06:39:11.325267Z",
     "start_time": "2024-10-03T06:39:11.276649Z"
    }
   },
   "cell_type": "code",
   "source": "windowval = Window.partitionBy(\"userId\").orderBy(desc(\"ts\")).rangeBetween(Window.unboundedPreceding, 0)",
   "id": "74f72b13357cc6c2",
   "outputs": [],
   "execution_count": 46
  },
  {
   "metadata": {
    "ExecuteTime": {
     "end_time": "2024-10-03T06:39:47.598050Z",
     "start_time": "2024-10-03T06:39:47.545301Z"
    }
   },
   "cell_type": "code",
   "source": "user_log_valid = user_log_valid.withColumn(\"phase\", Fsum(\"downgrade\").over(windowval))",
   "id": "6dba7c9a3dec121e",
   "outputs": [],
   "execution_count": 47
  },
  {
   "metadata": {
    "ExecuteTime": {
     "end_time": "2024-10-03T06:40:57.717652Z",
     "start_time": "2024-10-03T06:40:55.862806Z"
    }
   },
   "cell_type": "code",
   "source": "user_log_valid.select([\"userId\", \"firstName\", \"ts\", \"page\", \"level\", \"phase\"]).where(user_log.userId == \"1138\").collect()",
   "id": "a68e7a63aa5cacd3",
   "outputs": [
    {
     "data": {
      "text/plain": [
       "[Row(userId='1138', firstName='Kelly', ts=1513833144284, page='NextSong', level='free', phase=0),\n",
       " Row(userId='1138', firstName='Kelly', ts=1513821430284, page='Home', level='free', phase=0),\n",
       " Row(userId='1138', firstName='Kelly', ts=1513814880284, page='NextSong', level='free', phase=0),\n",
       " Row(userId='1138', firstName='Kelly', ts=1513768456284, page='Home', level='free', phase=0),\n",
       " Row(userId='1138', firstName='Kelly', ts=1513768454284, page='Submit Downgrade', level='paid', phase=1),\n",
       " Row(userId='1138', firstName='Kelly', ts=1513768453284, page='Downgrade', level='paid', phase=1),\n",
       " Row(userId='1138', firstName='Kelly', ts=1513768452284, page='NextSong', level='paid', phase=1),\n",
       " Row(userId='1138', firstName='Kelly', ts=1513768242284, page='NextSong', level='paid', phase=1),\n",
       " Row(userId='1138', firstName='Kelly', ts=1513768012284, page='NextSong', level='paid', phase=1),\n",
       " Row(userId='1138', firstName='Kelly', ts=1513767643284, page='NextSong', level='paid', phase=1),\n",
       " Row(userId='1138', firstName='Kelly', ts=1513767413284, page='NextSong', level='paid', phase=1),\n",
       " Row(userId='1138', firstName='Kelly', ts=1513767203284, page='NextSong', level='paid', phase=1),\n",
       " Row(userId='1138', firstName='Kelly', ts=1513766838284, page='NextSong', level='paid', phase=1),\n",
       " Row(userId='1138', firstName='Kelly', ts=1513766599284, page='NextSong', level='paid', phase=1),\n",
       " Row(userId='1138', firstName='Kelly', ts=1513766385284, page='NextSong', level='paid', phase=1),\n",
       " Row(userId='1138', firstName='Kelly', ts=1513766189284, page='NextSong', level='paid', phase=1),\n",
       " Row(userId='1138', firstName='Kelly', ts=1513766091284, page='NextSong', level='paid', phase=1),\n",
       " Row(userId='1138', firstName='Kelly', ts=1513765818284, page='NextSong', level='paid', phase=1),\n",
       " Row(userId='1138', firstName='Kelly', ts=1513765655284, page='NextSong', level='paid', phase=1),\n",
       " Row(userId='1138', firstName='Kelly', ts=1513765448284, page='NextSong', level='paid', phase=1),\n",
       " Row(userId='1138', firstName='Kelly', ts=1513765075284, page='NextSong', level='paid', phase=1),\n",
       " Row(userId='1138', firstName='Kelly', ts=1513765075284, page='Home', level='paid', phase=1),\n",
       " Row(userId='1138', firstName='Kelly', ts=1513764782284, page='NextSong', level='paid', phase=1),\n",
       " Row(userId='1138', firstName='Kelly', ts=1513764462284, page='NextSong', level='paid', phase=1),\n",
       " Row(userId='1138', firstName='Kelly', ts=1513764238284, page='NextSong', level='paid', phase=1),\n",
       " Row(userId='1138', firstName='Kelly', ts=1513763890284, page='NextSong', level='paid', phase=1),\n",
       " Row(userId='1138', firstName='Kelly', ts=1513763622284, page='NextSong', level='paid', phase=1),\n",
       " Row(userId='1138', firstName='Kelly', ts=1513763453284, page='NextSong', level='paid', phase=1),\n",
       " Row(userId='1138', firstName='Kelly', ts=1513763195284, page='NextSong', level='paid', phase=1),\n",
       " Row(userId='1138', firstName='Kelly', ts=1513738432284, page='NextSong', level='paid', phase=1),\n",
       " Row(userId='1138', firstName='Kelly', ts=1513738197284, page='Help', level='paid', phase=1),\n",
       " Row(userId='1138', firstName='Kelly', ts=1513738144284, page='NextSong', level='paid', phase=1),\n",
       " Row(userId='1138', firstName='Kelly', ts=1513737936284, page='NextSong', level='paid', phase=1),\n",
       " Row(userId='1138', firstName='Kelly', ts=1513737728284, page='NextSong', level='paid', phase=1),\n",
       " Row(userId='1138', firstName='Kelly', ts=1513737460284, page='NextSong', level='paid', phase=1),\n",
       " Row(userId='1138', firstName='Kelly', ts=1513737160284, page='NextSong', level='paid', phase=1),\n",
       " Row(userId='1138', firstName='Kelly', ts=1513736915284, page='NextSong', level='paid', phase=1),\n",
       " Row(userId='1138', firstName='Kelly', ts=1513736709284, page='NextSong', level='paid', phase=1),\n",
       " Row(userId='1138', firstName='Kelly', ts=1513736446284, page='NextSong', level='paid', phase=1),\n",
       " Row(userId='1138', firstName='Kelly', ts=1513736237284, page='NextSong', level='paid', phase=1),\n",
       " Row(userId='1138', firstName='Kelly', ts=1513736040284, page='NextSong', level='paid', phase=1),\n",
       " Row(userId='1138', firstName='Kelly', ts=1513735385284, page='NextSong', level='paid', phase=1),\n",
       " Row(userId='1138', firstName='Kelly', ts=1513735174284, page='NextSong', level='paid', phase=1),\n",
       " Row(userId='1138', firstName='Kelly', ts=1513734863284, page='NextSong', level='paid', phase=1),\n",
       " Row(userId='1138', firstName='Kelly', ts=1513734598284, page='NextSong', level='paid', phase=1),\n",
       " Row(userId='1138', firstName='Kelly', ts=1513734289284, page='NextSong', level='paid', phase=1),\n",
       " Row(userId='1138', firstName='Kelly', ts=1513733941284, page='NextSong', level='paid', phase=1),\n",
       " Row(userId='1138', firstName='Kelly', ts=1513733738284, page='NextSong', level='paid', phase=1),\n",
       " Row(userId='1138', firstName='Kelly', ts=1513733456284, page='NextSong', level='paid', phase=1),\n",
       " Row(userId='1138', firstName='Kelly', ts=1513733223284, page='NextSong', level='paid', phase=1),\n",
       " Row(userId='1138', firstName='Kelly', ts=1513732994284, page='NextSong', level='paid', phase=1),\n",
       " Row(userId='1138', firstName='Kelly', ts=1513732770284, page='NextSong', level='paid', phase=1),\n",
       " Row(userId='1138', firstName='Kelly', ts=1513732540284, page='NextSong', level='paid', phase=1),\n",
       " Row(userId='1138', firstName='Kelly', ts=1513732302284, page='NextSong', level='paid', phase=1),\n",
       " Row(userId='1138', firstName='Kelly', ts=1513732160284, page='NextSong', level='paid', phase=1),\n",
       " Row(userId='1138', firstName='Kelly', ts=1513731857284, page='NextSong', level='paid', phase=1),\n",
       " Row(userId='1138', firstName='Kelly', ts=1513731695284, page='NextSong', level='paid', phase=1),\n",
       " Row(userId='1138', firstName='Kelly', ts=1513731435284, page='NextSong', level='paid', phase=1),\n",
       " Row(userId='1138', firstName='Kelly', ts=1513731182284, page='NextSong', level='paid', phase=1),\n",
       " Row(userId='1138', firstName='Kelly', ts=1513730768284, page='NextSong', level='paid', phase=1),\n",
       " Row(userId='1138', firstName='Kelly', ts=1513730518284, page='NextSong', level='paid', phase=1),\n",
       " Row(userId='1138', firstName='Kelly', ts=1513730263284, page='NextSong', level='paid', phase=1),\n",
       " Row(userId='1138', firstName='Kelly', ts=1513730001284, page='NextSong', level='paid', phase=1),\n",
       " Row(userId='1138', firstName='Kelly', ts=1513729783284, page='NextSong', level='paid', phase=1),\n",
       " Row(userId='1138', firstName='Kelly', ts=1513729552284, page='NextSong', level='paid', phase=1),\n",
       " Row(userId='1138', firstName='Kelly', ts=1513729313284, page='NextSong', level='paid', phase=1),\n",
       " Row(userId='1138', firstName='Kelly', ts=1513729066284, page='Home', level='paid', phase=1),\n",
       " Row(userId='1138', firstName='Kelly', ts=1513729066284, page='NextSong', level='paid', phase=1)]"
      ]
     },
     "execution_count": 48,
     "metadata": {},
     "output_type": "execute_result"
    }
   ],
   "execution_count": 48
  }
 ],
 "metadata": {
  "kernelspec": {
   "display_name": "Python 3",
   "language": "python",
   "name": "python3"
  },
  "language_info": {
   "codemirror_mode": {
    "name": "ipython",
    "version": 2
   },
   "file_extension": ".py",
   "mimetype": "text/x-python",
   "name": "python",
   "nbconvert_exporter": "python",
   "pygments_lexer": "ipython2",
   "version": "2.7.6"
  }
 },
 "nbformat": 4,
 "nbformat_minor": 5
}
